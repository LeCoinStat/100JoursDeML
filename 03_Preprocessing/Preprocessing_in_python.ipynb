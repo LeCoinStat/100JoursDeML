{
  "cells": [
    {
      "cell_type": "code",
      "execution_count": 1,
      "id": "40f36131",
      "metadata": {},
      "outputs": [],
      "source": [
        "import pandas as pd\n",
        "from sklearn.preprocessing import (LabelEncoder, OrdinalEncoder, OneHotEncoder,\n                                    LabelBinarizer, MultiLabelBinarizer)\n",
        "from sklearn.datasets import load_iris"
      ]
    },
    {
      "cell_type": "markdown",
      "id": "dbf7aede",
      "metadata": {},
      "source": [
        "# Encoding des variables catégorielles\n",
        "\n",
        "| Forme d'encodage | Définition | Avantages | Inconvénients | Conditions d'utilisation |\n",
        "| --- | --- | --- | --- | --- |\n",
        "| Label Encoding | Transformation des valeurs catégorielles en entiers | Facile à implémenter, adapté aux algorithmes de machine learning | Création d'une relation d'ordre artificielle entre les catégories, peut induire en erreur certains algorithmes | Les catégories doivent être ordonnées ou ne pas avoir de relation d'ordre |\n",
        "| One-Hot Encoding | Transformation des valeurs catégorielles en vecteurs binaires | Ne crée pas de relation d'ordre artificielle, adapté à de nombreux algorithmes de machine learning | Peut créer des colonnes redondantes et augmenter considérablement la taille des données | Les catégories ne doivent pas être trop nombreuses |\n",
        "\n"
      ]
    },
    {
      "cell_type": "code",
      "execution_count": 2,
      "id": "acb1f6c5",
      "metadata": {},
      "outputs": [
        {
          "name": "stdout",
          "output_type": "stream",
          "text": [
            "Dataset original : \n",
            "   sepal_length  sepal_width  petal_length  petal_width        class\n",
            "0           5.1          3.5           1.4          0.2  Iris-setosa\n",
            "1           4.9          3.0           1.4          0.2  Iris-setosa\n",
            "2           4.7          3.2           1.3          0.2  Iris-setosa\n",
            "3           4.6          3.1           1.5          0.2  Iris-setosa\n",
            "4           5.0          3.6           1.4          0.2  Iris-setosa\n"
          ]
        }
      ],
      "source": [
        "# Charger un exemple de dataset\n",
        "iris = load_iris()\n",
        "df = pd.DataFrame(iris.data, columns=[\"sepal_length\", \"sepal_width\", \"petal_length\", \"petal_width\"])\n",
        "df[\"class\"] = iris.target\n",
        "print(\"Dataset original : \")\n",
        "print(df.head())"
      ]
    },
    {
      "cell_type": "markdown",
      "id": "94b0f4dc",
      "metadata": {},
      "source": [
        "# Label Encoding\n",
        "\n",
        "Le Label Encoding est une technique de transformation de variables catégorielles en valeurs numériques ordinales. Chaque catégorie possible de la variable est remplacée par un entier unique, en fonction de l'ordre dans lequel les catégories apparaissent dans la variable.\n",
        "\n",
        "## Avantages\n",
        "\n",
        "Le Label Encoding présente plusieurs avantages :\n",
        "\n",
        "- Il est simple à mettre en œuvre et ne nécessite pas beaucoup de ressources.\n",
        "- Il préserve l'ordre des catégories si elle est importante pour l'analyse.\n",
        "\n",
        "## Inconvénients\n",
        "\n",
        "Le Label Encoding présente également quelques inconvénients :\n",
        "\n",
        "- Il crée une relation d'ordre artificielle entre les catégories.\n",
        "- Il n'est pas adapté à certains algorithmes de machine learning, tels que les réseaux de neurones et les machines à vecteurs de support, qui peuvent interpréter les valeurs numériques comme des valeurs continues plutôt que des catégories.\n",
        "\n",
        "## Conditions d'utilisation\n",
        "\n",
        "Le Label Encoding est adapté aux variables catégorielles qui ont une relation d'ordre naturelle et pour lesquelles l'interprétation en termes de valeurs numériques est pertinente. Cependant, il est important de prendre en compte les avantages, les inconvénients et les conditions d'utilisation de cette technique pour éviter des erreurs d'interprétation ou des problèmes d'analyse. \n",
        "\n",
        "En général, le Label Encoding est une technique simple et rapide pour encoder des variables catégorielles en valeurs numériques ordinales, mais il est important de bien comprendre ses limites et d'utiliser d'autres techniques d'encodage pour des analyses plus avancées ou pour des algorithmes de machine learning plus complexes."
      ]
    },
    {
      "cell_type": "code",
      "execution_count": 3,
      "id": "132630f2",
      "metadata": {},
      "outputs": [
        {
          "name": "stdout",
          "output_type": "stream",
          "text": [
            "Label encoding : \n",
            "         class  class_le\n",
            "0  Iris-setosa         0\n",
            "1  Iris-setosa         0\n",
            "2  Iris-setosa         0\n",
            "3  Iris-setosa         0\n",
            "4  Iris-setosa         0\n",
            "Valeurs Unique\n",
            "[0 1 2]\n",
            "class     Iris-setosa  Iris-versicolor  Iris-virginica\n",
            "class_le                                              \n",
            "0                  50                0               0\n",
            "1                   0               50               0\n",
            "2                   0                0              50\n"
          ]
        }
      ],
      "source": [
        "# Label encoding\n",
        "le = LabelEncoder()\n",
        "df['class_le'] = le.fit_transform(df['class'])\n",
        "print(\"Label encoding : \")\n",
        "print(df[['class', 'class_le']].head())\n",
        "print(\"Valeurs Unique\")\n",
        "print(df.class_le.unique())\n",
        "# Réalisation de la table de contingence\n",
        "table = pd.crosstab(df['class_le'], df['class'])\n",
        "print(table)"
      ]
    },
    {
      "cell_type": "markdown",
      "id": "4425cc6f",
      "metadata": {},
      "source": [
        "# One-Hot Encoding\n",
        "\n",
        "Le One-Hot Encoding est une technique de transformation de variables catégorielles en vecteurs binaires. Chaque catégorie possible de la variable est représentée par une colonne binaire, et chaque observation est représentée par un vecteur binaire de la même dimension que le nombre de catégories possibles.\n",
        "\n",
        "## Avantages\n",
        "\n",
        "Le One-Hot Encoding présente plusieurs avantages :\n",
        "\n",
        "- Il ne crée pas de relation d'ordre artificielle entre les catégories.\n",
        "- Il est adapté à de nombreux algorithmes de machine learning, tels que les réseaux de neurones, les arbres de décision et les machines à vecteurs de support.\n",
        "- Il permet de prendre en compte des variables catégorielles avec un grand nombre de catégories.\n",
        "\n",
        "## Inconvénients\n",
        "\n",
        "Le One-Hot Encoding présente également quelques inconvénients :\n",
        "\n",
        "- Il peut créer des colonnes redondantes si une variable catégorielle a un grand nombre de catégories.\n",
        "- Il peut augmenter considérablement la taille des données si plusieurs variables catégorielles sont encodées de cette manière.\n",
        "\n",
        "## Conditions d'utilisation\n",
        "\n",
        "Le One-Hot Encoding est adapté aux variables catégorielles qui ne sont pas ordonnées et qui ont un nombre raisonnable de catégories possibles. Si une variable catégorielle a un grand nombre de catégories, il peut être préférable d'utiliser d'autres techniques d'encodage, telles que le Target Encoding ou le Binary Encoding.\n",
        "\n",
        "En général, le One-Hot Encoding est une technique efficace pour encoder des variables catégorielles et les utiliser dans des algorithmes de machine learning. Cependant, il est important de prendre en compte les avantages, les inconvénients et les conditions d'utilisation de cette technique pour éviter des problèmes de dimensionnalité ou des erreurs d'interprétation."
      ]
    },
    {
      "cell_type": "code",
      "execution_count": 4,
      "id": "ce7a721f",
      "metadata": {},
      "outputs": [
        {
          "name": "stdout",
          "output_type": "stream",
          "text": [
            "One-hot encoding : \n",
            "     class_Iris-setosa  class_Iris-versicolor  class_Iris-virginica\n",
            "0                  1.0                    0.0                   0.0\n",
            "1                  1.0                    0.0                   0.0\n",
            "2                  1.0                    0.0                   0.0\n",
            "3                  1.0                    0.0                   0.0\n",
            "4                  1.0                    0.0                   0.0\n",
            "..                 ...                    ...                   ...\n",
            "145                0.0                    0.0                   1.0\n",
            "146                0.0                    0.0                   1.0\n",
            "147                0.0                    0.0                   1.0\n",
            "148                0.0                    0.0                   1.0\n",
            "149                0.0                    0.0                   1.0\n",
            "\n",
            "[150 rows x 3 columns]\n"
          ]
        },
        {
          "name": "stderr",
          "output_type": "stream",
          "text": [
            "/Users/natachanjongwayepnga/opt/anaconda3/lib/python3.9/site-packages/sklearn/utils/deprecation.py:87: FutureWarning: Function get_feature_names is deprecated; get_feature_names is deprecated in 1.0 and will be removed in 1.2. Please use get_feature_names_out instead.\n",
            "  warnings.warn(msg, category=FutureWarning)\n"
          ]
        }
      ],
      "source": [
        "\n",
        "# One-hot encoding\n",
        "ohe = OneHotEncoder(sparse=False)\n",
        "ohe_result = ohe.fit_transform(df[['class']])\n",
        "df_ohe = pd.DataFrame(ohe_result, columns=ohe.get_feature_names(['class']))\n",
        "print(\"One-hot encoding : \")\n",
        "print(df_ohe)\n",
        "\n",
        "\n"
      ]
    },
    {
      "cell_type": "markdown",
      "id": "d4f70803",
      "metadata": {},
      "source": [
        "# Target Encoding\n",
        "\n",
        "Le Target Encoding est une technique de transformation de variables catégorielles en valeurs numériques en fonction de la variable cible. Chaque catégorie possible de la variable est remplacée par la moyenne, la médiane ou tout autre agrégat de la variable cible pour cette catégorie.\n",
        "\n",
        "## Avantages\n",
        "\n",
        "Le Target Encoding présente plusieurs avantages :\n",
        "\n",
        "- Il peut capturer des informations importantes sur la relation entre la variable catégorielle et la variable cible.\n",
        "- Il peut être adapté à des variables catégorielles avec un grand nombre de catégories ou des catégories rares.\n",
        "\n",
        "## Inconvénients\n",
        "\n",
        "Le Target Encoding présente également quelques inconvénients :\n",
        "\n",
        "- Il peut être sensible aux valeurs aberrantes et aux échantillons de petite taille.\n",
        "- Il peut surajuster les données d'entraînement s'il n'est pas utilisé avec prudence.\n",
        "\n",
        "## Conditions d'utilisation\n",
        "\n",
        "Le Target Encoding est adapté aux variables catégorielles pour lesquelles la relation avec la variable cible est importante pour l'analyse ou la prédiction. Il est important de prendre en compte les avantages et les inconvénients de cette technique pour éviter des erreurs d'interprétation ou des problèmes d'analyse.\n",
        "\n",
        "En général, le Target Encoding est une technique utile pour encoder des variables catégorielles en valeurs numériques en fonction de la variable cible, mais il est important de bien comprendre ses limites et d'utiliser d'autres techniques d'encodage pour des analyses plus avancées ou pour des algorithmes de machine learning plus complexes."
      ]
    },
    {
      "cell_type": "code",
      "execution_count": null,
      "id": "ad785bbe",
      "metadata": {},
      "outputs": [],
      "source": []
    }
  ],
  "metadata": {
    "hide_input": false,
    "kernelspec": {
      "display_name": "Python 3 (ipykernel)",
      "language": "python",
      "name": "python3"
    },
    "language_info": {
      "codemirror_mode": {
        "name": "ipython",
        "version": 3
      },
      "file_extension": ".py",
      "mimetype": "text/x-python",
      "name": "python",
      "nbconvert_exporter": "python",
      "pygments_lexer": "ipython3",
      "version": "3.9.13"
    },
    "toc": {
      "base_numbering": 1,
      "nav_menu": {},
      "number_sections": true,
      "sideBar": true,
      "skip_h1_title": false,
      "title_cell": "Table of Contents",
      "title_sidebar": "Contents",
      "toc_cell": false,
      "toc_position": {},
      "toc_section_display": true,
      "toc_window_display": false
    }
  },
  "nbformat": 4,
  "nbformat_minor": 5
}
